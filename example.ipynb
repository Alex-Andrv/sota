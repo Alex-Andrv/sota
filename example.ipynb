{
 "cells": [
  {
   "cell_type": "code",
   "execution_count": 1,
   "outputs": [
    {
     "name": "stdout",
     "output_type": "stream",
     "text": [
      "Using device cpu\n",
      "Using device cpu\n"
     ]
    }
   ],
   "source": [
    "from torch import optim\n",
    "import importlib\n",
    "import experiment\n",
    "importlib.reload(experiment)\n",
    "\n",
    "from experiment import experiment\n",
    "importlib.reload(experiment)\n",
    "from experiment.experiment import Experiment\n",
    "from copy import deepcopy\n",
    "import torch.nn.functional as F\n",
    "\n",
    "from sklearn.metrics import accuracy_score\n",
    "\n",
    "from optimizers import adamw, lion\n",
    "importlib.reload(adamw)\n",
    "importlib.reload(lion)\n",
    "from optimizers.adamw import AdamW\n",
    "from optimizers.lion import Lion\n",
    "\n",
    "import matplotlib.pyplot as plt"
   ],
   "metadata": {
    "collapsed": false,
    "ExecuteTime": {
     "end_time": "2023-10-16T11:40:44.457474497Z",
     "start_time": "2023-10-16T11:40:41.907406023Z"
    }
   },
   "id": "be04fc734fcaa7ae"
  },
  {
   "cell_type": "code",
   "execution_count": null,
   "outputs": [],
   "source": [
    "from torch.utils.data import DataLoader\n",
    "from torchvision import datasets, transforms\n",
    "import torch\n",
    "\n",
    "data_train = datasets.MNIST(root='/tmp/data', download=True, transform=transforms.Compose([\n",
    "    transforms.ToTensor(),\n",
    "    transforms.Lambda(lambda x: x.flatten())\n",
    "]), train=True)\n",
    "data_test = datasets.MNIST(root='/tmp/data', download=True, transform=transforms.Compose([\n",
    "    transforms.ToTensor(),\n",
    "    transforms.Lambda(lambda x: x.flatten())\n",
    "]), train=False)"
   ],
   "metadata": {
    "collapsed": false
   },
   "id": "e2dd9517c1179bc1"
  },
  {
   "cell_type": "code",
   "execution_count": null,
   "outputs": [],
   "source": [
    "import matplotlib.pyplot as plt\n",
    "plt.imshow(data_train[0][0].reshape(28, 28))"
   ],
   "metadata": {
    "collapsed": false
   },
   "id": "1e2b379ea6434ec7"
  },
  {
   "cell_type": "code",
   "execution_count": 11,
   "outputs": [],
   "source": [
    "from torch import nn\n",
    "simple_model = nn.Sequential(\n",
    "    nn.Linear(28*28, 10),\n",
    "    nn.ReLU(),\n",
    "    nn.Linear(10, 10),\n",
    "    nn.LogSoftmax(dim=1)\n",
    ")"
   ],
   "metadata": {
    "collapsed": false,
    "ExecuteTime": {
     "end_time": "2023-10-12T10:08:18.961683783Z",
     "start_time": "2023-10-12T10:08:18.948560565Z"
    }
   },
   "id": "161237688e7caa8"
  },
  {
   "cell_type": "code",
   "execution_count": 14,
   "outputs": [],
   "source": [
    "from torch.utils.data import TensorDataset\n",
    "\n",
    "X_train = data_train.data.reshape(-1, 28*28).type(torch.FloatTensor) / 255\n",
    "y_train = data_train.targets\n",
    "\n",
    "X_test = data_test.data.reshape(-1, 28*28).type(torch.FloatTensor) / 255\n",
    "y_test = data_test.targets\n",
    "\n",
    "train_dataset = TensorDataset(X_train, y_train)\n",
    "test_dataset = TensorDataset(X_test, y_test)\n",
    "\n",
    "train_loader = DataLoader(train_dataset, batch_size=32, shuffle=True)\n",
    "test_loader = DataLoader(test_dataset, batch_size=32, shuffle=True)"
   ],
   "metadata": {
    "collapsed": false,
    "ExecuteTime": {
     "end_time": "2023-10-12T12:17:40.127979083Z",
     "start_time": "2023-10-12T12:17:38.647883542Z"
    }
   },
   "id": "b0e9baf8d878a949"
  },
  {
   "cell_type": "code",
   "execution_count": 17,
   "outputs": [
    {
     "name": "stdout",
     "output_type": "stream",
     "text": [
      "Number of experiments: 30\n",
      "--------------------------------------------------\n",
      "Epoch 1/100 - train_loss: 0.39750821551432214\n",
      "accuracy_train: 0.8847166666666667\n",
      "accuracy_test: 0.8984624600638977\n",
      "--------------------------------------------------\n",
      "Epoch 2/100 - train_loss: 0.3026406056165695\n",
      "accuracy_train: 0.9129166666666667\n",
      "accuracy_test: 0.8964656549520766\n",
      "--------------------------------------------------\n",
      "Epoch 3/100 - train_loss: 0.283740735437721\n",
      "accuracy_train: 0.9176666666666666\n",
      "accuracy_test: 0.8980630990415336\n",
      "--------------------------------------------------\n",
      "Epoch 4/100 - train_loss: 0.27015987789357704\n",
      "accuracy_train: 0.9218166666666666\n",
      "accuracy_test: 0.9032547923322684\n"
     ]
    },
    {
     "ename": "KeyboardInterrupt",
     "evalue": "",
     "output_type": "error",
     "traceback": [
      "\u001B[0;31m---------------------------------------------------------------------------\u001B[0m",
      "\u001B[0;31mKeyboardInterrupt\u001B[0m                         Traceback (most recent call last)",
      "Cell \u001B[0;32mIn[17], line 25\u001B[0m\n\u001B[1;32m     22\u001B[0m \u001B[38;5;28mprint\u001B[39m(\u001B[38;5;124m\"\u001B[39m\u001B[38;5;124mNumber of experiments:\u001B[39m\u001B[38;5;124m\"\u001B[39m, \u001B[38;5;28mlen\u001B[39m(experiments))\n\u001B[1;32m     24\u001B[0m \u001B[38;5;28;01mfor\u001B[39;00m experiment \u001B[38;5;129;01min\u001B[39;00m experiments:\n\u001B[0;32m---> 25\u001B[0m     \u001B[43mexperiment\u001B[49m\u001B[38;5;241;43m.\u001B[39;49m\u001B[43mrun\u001B[49m\u001B[43m(\u001B[49m\u001B[43mepochs\u001B[49m\u001B[38;5;241;43m=\u001B[39;49m\u001B[38;5;241;43m100\u001B[39;49m\u001B[43m,\u001B[49m\u001B[43m \u001B[49m\u001B[43mverbose\u001B[49m\u001B[38;5;241;43m=\u001B[39;49m\u001B[38;5;241;43m1\u001B[39;49m\u001B[43m)\u001B[49m\n",
      "File \u001B[0;32m~/Programming/Notebooks/Sirius/sota/experiment/experiment.py:98\u001B[0m, in \u001B[0;36mrun\u001B[0;34m(self, epochs, verbose)\u001B[0m\n\u001B[1;32m     94\u001B[0m         \u001B[38;5;28mself\u001B[39m\u001B[38;5;241m.\u001B[39mmetrics_history[key]\u001B[38;5;241m.\u001B[39mappend(np\u001B[38;5;241m.\u001B[39mmean(new_metrics[key]))\n\u001B[1;32m     96\u001B[0m     (\u001B[38;5;28mself\u001B[39m\u001B[38;5;241m.\u001B[39mtest_loss \u001B[38;5;28;01mif\u001B[39;00m \u001B[38;5;28meval\u001B[39m \u001B[38;5;28;01melse\u001B[39;00m \u001B[38;5;28mself\u001B[39m\u001B[38;5;241m.\u001B[39mtrain_loss)\u001B[38;5;241m.\u001B[39mappend(np\u001B[38;5;241m.\u001B[39mmean(losses))\n\u001B[0;32m---> 98\u001B[0m \u001B[38;5;28;01mdef\u001B[39;00m \u001B[38;5;21mrun\u001B[39m(\u001B[38;5;28mself\u001B[39m, epochs\u001B[38;5;241m=\u001B[39m\u001B[38;5;241m10\u001B[39m, verbose\u001B[38;5;241m=\u001B[39m\u001B[38;5;241m1\u001B[39m):\n\u001B[1;32m    100\u001B[0m     \u001B[38;5;28;01mif\u001B[39;00m \u001B[38;5;28mself\u001B[39m\u001B[38;5;241m.\u001B[39mwandb_config:\n\u001B[1;32m    101\u001B[0m         wandb_run \u001B[38;5;241m=\u001B[39m wandb\u001B[38;5;241m.\u001B[39minit(\u001B[38;5;241m*\u001B[39m\u001B[38;5;241m*\u001B[39m\u001B[38;5;28mself\u001B[39m\u001B[38;5;241m.\u001B[39mwandb_config, reinit\u001B[38;5;241m=\u001B[39m\u001B[38;5;28;01mTrue\u001B[39;00m)\n",
      "File \u001B[0;32m~/Programming/Notebooks/Sirius/sota/experiment/experiment.py:80\u001B[0m, in \u001B[0;36mrun_epoch\u001B[0;34m(self, eval)\u001B[0m\n\u001B[1;32m     76\u001B[0m     torch\u001B[38;5;241m.\u001B[39mset_grad_enabled(\u001B[38;5;28;01mTrue\u001B[39;00m)\n\u001B[1;32m     78\u001B[0m     \u001B[38;5;28;01mreturn\u001B[39;00m loss\u001B[38;5;241m.\u001B[39mitem(), metrics\n\u001B[0;32m---> 80\u001B[0m \u001B[38;5;28;01mdef\u001B[39;00m \u001B[38;5;21mrun_epoch\u001B[39m(\u001B[38;5;28mself\u001B[39m, \u001B[38;5;28meval\u001B[39m\u001B[38;5;241m=\u001B[39m\u001B[38;5;28;01mFalse\u001B[39;00m):\n\u001B[1;32m     81\u001B[0m     losses \u001B[38;5;241m=\u001B[39m []\n\u001B[1;32m     82\u001B[0m     mode \u001B[38;5;241m=\u001B[39m \u001B[38;5;124m\"\u001B[39m\u001B[38;5;124m_test\u001B[39m\u001B[38;5;124m\"\u001B[39m \u001B[38;5;28;01mif\u001B[39;00m \u001B[38;5;28meval\u001B[39m \u001B[38;5;28;01melse\u001B[39;00m \u001B[38;5;124m\"\u001B[39m\u001B[38;5;124m_train\u001B[39m\u001B[38;5;124m\"\u001B[39m\n",
      "File \u001B[0;32m~/Programming/Notebooks/Sirius/sota/experiment/experiment.py:67\u001B[0m, in \u001B[0;36m_feed_batch\u001B[0;34m(self, X, y, eval)\u001B[0m\n\u001B[1;32m     64\u001B[0m     loss\u001B[38;5;241m.\u001B[39mbackward()\n\u001B[1;32m     65\u001B[0m     \u001B[38;5;28mself\u001B[39m\u001B[38;5;241m.\u001B[39moptimizer\u001B[38;5;241m.\u001B[39mstep()\n\u001B[0;32m---> 67\u001B[0m \u001B[38;5;28;01mif\u001B[39;00m \u001B[38;5;28mself\u001B[39m\u001B[38;5;241m.\u001B[39mmode \u001B[38;5;241m==\u001B[39m \u001B[38;5;124m\"\u001B[39m\u001B[38;5;124mclassification\u001B[39m\u001B[38;5;124m\"\u001B[39m:\n\u001B[1;32m     68\u001B[0m     y_pred \u001B[38;5;241m=\u001B[39m np\u001B[38;5;241m.\u001B[39margmax(y_out\u001B[38;5;241m.\u001B[39mdetach()\u001B[38;5;241m.\u001B[39mcpu()\u001B[38;5;241m.\u001B[39mnumpy(), axis\u001B[38;5;241m=\u001B[39m\u001B[38;5;241m1\u001B[39m)\n\u001B[1;32m     69\u001B[0m \u001B[38;5;28;01melse\u001B[39;00m:\n",
      "File \u001B[0;32m~/Programming/MLvenv/lib/python3.11/site-packages/sklearn/utils/_param_validation.py:186\u001B[0m, in \u001B[0;36mvalidate_params.<locals>.decorator.<locals>.wrapper\u001B[0;34m(*args, **kwargs)\u001B[0m\n\u001B[1;32m    183\u001B[0m \u001B[38;5;28;01mif\u001B[39;00m global_skip_validation:\n\u001B[1;32m    184\u001B[0m     \u001B[38;5;28;01mreturn\u001B[39;00m func(\u001B[38;5;241m*\u001B[39margs, \u001B[38;5;241m*\u001B[39m\u001B[38;5;241m*\u001B[39mkwargs)\n\u001B[0;32m--> 186\u001B[0m func_sig \u001B[38;5;241m=\u001B[39m \u001B[43msignature\u001B[49m\u001B[43m(\u001B[49m\u001B[43mfunc\u001B[49m\u001B[43m)\u001B[49m\n\u001B[1;32m    188\u001B[0m \u001B[38;5;66;03m# Map *args/**kwargs to the function signature\u001B[39;00m\n\u001B[1;32m    189\u001B[0m params \u001B[38;5;241m=\u001B[39m func_sig\u001B[38;5;241m.\u001B[39mbind(\u001B[38;5;241m*\u001B[39margs, \u001B[38;5;241m*\u001B[39m\u001B[38;5;241m*\u001B[39mkwargs)\n",
      "File \u001B[0;32m/usr/lib/python3.11/inspect.py:3280\u001B[0m, in \u001B[0;36msignature\u001B[0;34m(obj, follow_wrapped, globals, locals, eval_str)\u001B[0m\n\u001B[1;32m   3278\u001B[0m \u001B[38;5;28;01mdef\u001B[39;00m \u001B[38;5;21msignature\u001B[39m(obj, \u001B[38;5;241m*\u001B[39m, follow_wrapped\u001B[38;5;241m=\u001B[39m\u001B[38;5;28;01mTrue\u001B[39;00m, \u001B[38;5;28mglobals\u001B[39m\u001B[38;5;241m=\u001B[39m\u001B[38;5;28;01mNone\u001B[39;00m, \u001B[38;5;28mlocals\u001B[39m\u001B[38;5;241m=\u001B[39m\u001B[38;5;28;01mNone\u001B[39;00m, eval_str\u001B[38;5;241m=\u001B[39m\u001B[38;5;28;01mFalse\u001B[39;00m):\n\u001B[1;32m   3279\u001B[0m \u001B[38;5;250m    \u001B[39m\u001B[38;5;124;03m\"\"\"Get a signature object for the passed callable.\"\"\"\u001B[39;00m\n\u001B[0;32m-> 3280\u001B[0m     \u001B[38;5;28;01mreturn\u001B[39;00m \u001B[43mSignature\u001B[49m\u001B[38;5;241;43m.\u001B[39;49m\u001B[43mfrom_callable\u001B[49m\u001B[43m(\u001B[49m\u001B[43mobj\u001B[49m\u001B[43m,\u001B[49m\u001B[43m \u001B[49m\u001B[43mfollow_wrapped\u001B[49m\u001B[38;5;241;43m=\u001B[39;49m\u001B[43mfollow_wrapped\u001B[49m\u001B[43m,\u001B[49m\n\u001B[1;32m   3281\u001B[0m \u001B[43m                                   \u001B[49m\u001B[38;5;28;43mglobals\u001B[39;49m\u001B[38;5;241;43m=\u001B[39;49m\u001B[38;5;28;43mglobals\u001B[39;49m\u001B[43m,\u001B[49m\u001B[43m \u001B[49m\u001B[38;5;28;43mlocals\u001B[39;49m\u001B[38;5;241;43m=\u001B[39;49m\u001B[38;5;28;43mlocals\u001B[39;49m\u001B[43m,\u001B[49m\u001B[43m \u001B[49m\u001B[43meval_str\u001B[49m\u001B[38;5;241;43m=\u001B[39;49m\u001B[43meval_str\u001B[49m\u001B[43m)\u001B[49m\n",
      "File \u001B[0;32m/usr/lib/python3.11/inspect.py:3028\u001B[0m, in \u001B[0;36mSignature.from_callable\u001B[0;34m(cls, obj, follow_wrapped, globals, locals, eval_str)\u001B[0m\n\u001B[1;32m   3024\u001B[0m \u001B[38;5;129m@classmethod\u001B[39m\n\u001B[1;32m   3025\u001B[0m \u001B[38;5;28;01mdef\u001B[39;00m \u001B[38;5;21mfrom_callable\u001B[39m(\u001B[38;5;28mcls\u001B[39m, obj, \u001B[38;5;241m*\u001B[39m,\n\u001B[1;32m   3026\u001B[0m                   follow_wrapped\u001B[38;5;241m=\u001B[39m\u001B[38;5;28;01mTrue\u001B[39;00m, \u001B[38;5;28mglobals\u001B[39m\u001B[38;5;241m=\u001B[39m\u001B[38;5;28;01mNone\u001B[39;00m, \u001B[38;5;28mlocals\u001B[39m\u001B[38;5;241m=\u001B[39m\u001B[38;5;28;01mNone\u001B[39;00m, eval_str\u001B[38;5;241m=\u001B[39m\u001B[38;5;28;01mFalse\u001B[39;00m):\n\u001B[1;32m   3027\u001B[0m \u001B[38;5;250m    \u001B[39m\u001B[38;5;124;03m\"\"\"Constructs Signature for the given callable object.\"\"\"\u001B[39;00m\n\u001B[0;32m-> 3028\u001B[0m     \u001B[38;5;28;01mreturn\u001B[39;00m \u001B[43m_signature_from_callable\u001B[49m\u001B[43m(\u001B[49m\u001B[43mobj\u001B[49m\u001B[43m,\u001B[49m\u001B[43m \u001B[49m\u001B[43msigcls\u001B[49m\u001B[38;5;241;43m=\u001B[39;49m\u001B[38;5;28;43mcls\u001B[39;49m\u001B[43m,\u001B[49m\n\u001B[1;32m   3029\u001B[0m \u001B[43m                                    \u001B[49m\u001B[43mfollow_wrapper_chains\u001B[49m\u001B[38;5;241;43m=\u001B[39;49m\u001B[43mfollow_wrapped\u001B[49m\u001B[43m,\u001B[49m\n\u001B[1;32m   3030\u001B[0m \u001B[43m                                    \u001B[49m\u001B[38;5;28;43mglobals\u001B[39;49m\u001B[38;5;241;43m=\u001B[39;49m\u001B[38;5;28;43mglobals\u001B[39;49m\u001B[43m,\u001B[49m\u001B[43m \u001B[49m\u001B[38;5;28;43mlocals\u001B[39;49m\u001B[38;5;241;43m=\u001B[39;49m\u001B[38;5;28;43mlocals\u001B[39;49m\u001B[43m,\u001B[49m\u001B[43m \u001B[49m\u001B[43meval_str\u001B[49m\u001B[38;5;241;43m=\u001B[39;49m\u001B[43meval_str\u001B[49m\u001B[43m)\u001B[49m\n",
      "File \u001B[0;32m/usr/lib/python3.11/inspect.py:2516\u001B[0m, in \u001B[0;36m_signature_from_callable\u001B[0;34m(obj, follow_wrapper_chains, skip_bound_arg, globals, locals, eval_str, sigcls)\u001B[0m\n\u001B[1;32m   2511\u001B[0m             \u001B[38;5;28;01mreturn\u001B[39;00m sig\u001B[38;5;241m.\u001B[39mreplace(parameters\u001B[38;5;241m=\u001B[39mnew_params)\n\u001B[1;32m   2513\u001B[0m \u001B[38;5;28;01mif\u001B[39;00m isfunction(obj) \u001B[38;5;129;01mor\u001B[39;00m _signature_is_functionlike(obj):\n\u001B[1;32m   2514\u001B[0m     \u001B[38;5;66;03m# If it's a pure Python function, or an object that is duck type\u001B[39;00m\n\u001B[1;32m   2515\u001B[0m     \u001B[38;5;66;03m# of a Python function (Cython functions, for instance), then:\u001B[39;00m\n\u001B[0;32m-> 2516\u001B[0m     \u001B[38;5;28;01mreturn\u001B[39;00m \u001B[43m_signature_from_function\u001B[49m\u001B[43m(\u001B[49m\u001B[43msigcls\u001B[49m\u001B[43m,\u001B[49m\u001B[43m \u001B[49m\u001B[43mobj\u001B[49m\u001B[43m,\u001B[49m\n\u001B[1;32m   2517\u001B[0m \u001B[43m                                    \u001B[49m\u001B[43mskip_bound_arg\u001B[49m\u001B[38;5;241;43m=\u001B[39;49m\u001B[43mskip_bound_arg\u001B[49m\u001B[43m,\u001B[49m\n\u001B[1;32m   2518\u001B[0m \u001B[43m                                    \u001B[49m\u001B[38;5;28;43mglobals\u001B[39;49m\u001B[38;5;241;43m=\u001B[39;49m\u001B[38;5;28;43mglobals\u001B[39;49m\u001B[43m,\u001B[49m\u001B[43m \u001B[49m\u001B[38;5;28;43mlocals\u001B[39;49m\u001B[38;5;241;43m=\u001B[39;49m\u001B[38;5;28;43mlocals\u001B[39;49m\u001B[43m,\u001B[49m\u001B[43m \u001B[49m\u001B[43meval_str\u001B[49m\u001B[38;5;241;43m=\u001B[39;49m\u001B[43meval_str\u001B[49m\u001B[43m)\u001B[49m\n\u001B[1;32m   2520\u001B[0m \u001B[38;5;28;01mif\u001B[39;00m _signature_is_builtin(obj):\n\u001B[1;32m   2521\u001B[0m     \u001B[38;5;28;01mreturn\u001B[39;00m _signature_from_builtin(sigcls, obj,\n\u001B[1;32m   2522\u001B[0m                                    skip_bound_arg\u001B[38;5;241m=\u001B[39mskip_bound_arg)\n",
      "File \u001B[0;32m/usr/lib/python3.11/inspect.py:2407\u001B[0m, in \u001B[0;36m_signature_from_function\u001B[0;34m(cls, func, skip_bound_arg, globals, locals, eval_str)\u001B[0m\n\u001B[1;32m   2404\u001B[0m         default \u001B[38;5;241m=\u001B[39m kwdefaults\u001B[38;5;241m.\u001B[39mget(name, _empty)\n\u001B[1;32m   2406\u001B[0m     annotation \u001B[38;5;241m=\u001B[39m annotations\u001B[38;5;241m.\u001B[39mget(name, _empty)\n\u001B[0;32m-> 2407\u001B[0m     parameters\u001B[38;5;241m.\u001B[39mappend(\u001B[43mParameter\u001B[49m\u001B[43m(\u001B[49m\u001B[43mname\u001B[49m\u001B[43m,\u001B[49m\u001B[43m \u001B[49m\u001B[43mannotation\u001B[49m\u001B[38;5;241;43m=\u001B[39;49m\u001B[43mannotation\u001B[49m\u001B[43m,\u001B[49m\n\u001B[1;32m   2408\u001B[0m \u001B[43m                                \u001B[49m\u001B[43mkind\u001B[49m\u001B[38;5;241;43m=\u001B[39;49m\u001B[43m_KEYWORD_ONLY\u001B[49m\u001B[43m,\u001B[49m\n\u001B[1;32m   2409\u001B[0m \u001B[43m                                \u001B[49m\u001B[43mdefault\u001B[49m\u001B[38;5;241;43m=\u001B[39;49m\u001B[43mdefault\u001B[49m\u001B[43m)\u001B[49m)\n\u001B[1;32m   2410\u001B[0m \u001B[38;5;66;03m# **kwargs\u001B[39;00m\n\u001B[1;32m   2411\u001B[0m \u001B[38;5;28;01mif\u001B[39;00m func_code\u001B[38;5;241m.\u001B[39mco_flags \u001B[38;5;241m&\u001B[39m CO_VARKEYWORDS:\n",
      "File \u001B[0;32m/usr/lib/python3.11/inspect.py:2688\u001B[0m, in \u001B[0;36mParameter.__init__\u001B[0;34m(self, name, kind, default, annotation)\u001B[0m\n\u001B[1;32m   2686\u001B[0m \u001B[38;5;28;01mdef\u001B[39;00m \u001B[38;5;21m__init__\u001B[39m(\u001B[38;5;28mself\u001B[39m, name, kind, \u001B[38;5;241m*\u001B[39m, default\u001B[38;5;241m=\u001B[39m_empty, annotation\u001B[38;5;241m=\u001B[39m_empty):\n\u001B[1;32m   2687\u001B[0m     \u001B[38;5;28;01mtry\u001B[39;00m:\n\u001B[0;32m-> 2688\u001B[0m         \u001B[38;5;28mself\u001B[39m\u001B[38;5;241m.\u001B[39m_kind \u001B[38;5;241m=\u001B[39m \u001B[43m_ParameterKind\u001B[49m\u001B[43m(\u001B[49m\u001B[43mkind\u001B[49m\u001B[43m)\u001B[49m\n\u001B[1;32m   2689\u001B[0m     \u001B[38;5;28;01mexcept\u001B[39;00m \u001B[38;5;167;01mValueError\u001B[39;00m:\n\u001B[1;32m   2690\u001B[0m         \u001B[38;5;28;01mraise\u001B[39;00m \u001B[38;5;167;01mValueError\u001B[39;00m(\u001B[38;5;124mf\u001B[39m\u001B[38;5;124m'\u001B[39m\u001B[38;5;124mvalue \u001B[39m\u001B[38;5;132;01m{\u001B[39;00mkind\u001B[38;5;132;01m!r}\u001B[39;00m\u001B[38;5;124m is not a valid Parameter.kind\u001B[39m\u001B[38;5;124m'\u001B[39m)\n",
      "File \u001B[0;32m/usr/lib/python3.11/enum.py:712\u001B[0m, in \u001B[0;36mEnumType.__call__\u001B[0;34m(cls, value, names, module, qualname, type, start, boundary)\u001B[0m\n\u001B[1;32m    687\u001B[0m \u001B[38;5;250m\u001B[39m\u001B[38;5;124;03m\"\"\"\u001B[39;00m\n\u001B[1;32m    688\u001B[0m \u001B[38;5;124;03mEither returns an existing member, or creates a new enum class.\u001B[39;00m\n\u001B[1;32m    689\u001B[0m \n\u001B[0;32m   (...)\u001B[0m\n\u001B[1;32m    709\u001B[0m \u001B[38;5;124;03m`type`, if set, will be mixed in as the first base class.\u001B[39;00m\n\u001B[1;32m    710\u001B[0m \u001B[38;5;124;03m\"\"\"\u001B[39;00m\n\u001B[1;32m    711\u001B[0m \u001B[38;5;28;01mif\u001B[39;00m names \u001B[38;5;129;01mis\u001B[39;00m \u001B[38;5;28;01mNone\u001B[39;00m:  \u001B[38;5;66;03m# simple value lookup\u001B[39;00m\n\u001B[0;32m--> 712\u001B[0m     \u001B[38;5;28;01mreturn\u001B[39;00m \u001B[38;5;28;43mcls\u001B[39;49m\u001B[38;5;241;43m.\u001B[39;49m\u001B[38;5;21;43m__new__\u001B[39;49m\u001B[43m(\u001B[49m\u001B[38;5;28;43mcls\u001B[39;49m\u001B[43m,\u001B[49m\u001B[43m \u001B[49m\u001B[43mvalue\u001B[49m\u001B[43m)\u001B[49m\n\u001B[1;32m    713\u001B[0m \u001B[38;5;66;03m# otherwise, functional API: we're creating a new Enum type\u001B[39;00m\n\u001B[1;32m    714\u001B[0m \u001B[38;5;28;01mreturn\u001B[39;00m \u001B[38;5;28mcls\u001B[39m\u001B[38;5;241m.\u001B[39m_create_(\n\u001B[1;32m    715\u001B[0m         value,\n\u001B[1;32m    716\u001B[0m         names,\n\u001B[0;32m   (...)\u001B[0m\n\u001B[1;32m    721\u001B[0m         boundary\u001B[38;5;241m=\u001B[39mboundary,\n\u001B[1;32m    722\u001B[0m         )\n",
      "File \u001B[0;32m/usr/lib/python3.11/enum.py:1091\u001B[0m, in \u001B[0;36mEnum.__new__\u001B[0;34m(cls, value)\u001B[0m\n\u001B[1;32m   1051\u001B[0m \u001B[38;5;28;01mclass\u001B[39;00m \u001B[38;5;21;01mEnum\u001B[39;00m(metaclass\u001B[38;5;241m=\u001B[39mEnumType):\n\u001B[1;32m   1052\u001B[0m \u001B[38;5;250m    \u001B[39m\u001B[38;5;124;03m\"\"\"\u001B[39;00m\n\u001B[1;32m   1053\u001B[0m \u001B[38;5;124;03m    Create a collection of name/value pairs.\u001B[39;00m\n\u001B[1;32m   1054\u001B[0m \n\u001B[0;32m   (...)\u001B[0m\n\u001B[1;32m   1088\u001B[0m \u001B[38;5;124;03m    attributes -- see the documentation for details.\u001B[39;00m\n\u001B[1;32m   1089\u001B[0m \u001B[38;5;124;03m    \"\"\"\u001B[39;00m\n\u001B[0;32m-> 1091\u001B[0m     \u001B[38;5;28;01mdef\u001B[39;00m \u001B[38;5;21m__new__\u001B[39m(\u001B[38;5;28mcls\u001B[39m, value):\n\u001B[1;32m   1092\u001B[0m         \u001B[38;5;66;03m# all enum instances are actually created during class construction\u001B[39;00m\n\u001B[1;32m   1093\u001B[0m         \u001B[38;5;66;03m# without calling this method; this method is called by the metaclass'\u001B[39;00m\n\u001B[1;32m   1094\u001B[0m         \u001B[38;5;66;03m# __call__ (i.e. Color(3) ), and by pickle\u001B[39;00m\n\u001B[1;32m   1095\u001B[0m         \u001B[38;5;28;01mif\u001B[39;00m \u001B[38;5;28mtype\u001B[39m(value) \u001B[38;5;129;01mis\u001B[39;00m \u001B[38;5;28mcls\u001B[39m:\n\u001B[1;32m   1096\u001B[0m             \u001B[38;5;66;03m# For lookups like Color(Color.RED)\u001B[39;00m\n\u001B[1;32m   1097\u001B[0m             \u001B[38;5;28;01mreturn\u001B[39;00m value\n",
      "\u001B[0;31mKeyboardInterrupt\u001B[0m: "
     ]
    }
   ],
   "source": [
    "from itertools import product\n",
    "\n",
    "import os\n",
    "os.environ[\"WANDB_SILENT\"] = \"true\"\n",
    "\n",
    "optimizers = {\"Pytorch Adam\": optim.Adam, \"Lion\": Lion, \"AdamW\": AdamW, \"Pytorch AdamW\": optim.AdamW}\n",
    "\n",
    "lrs = [5e-3, 1e-3, 3e-4, 1e-4, 3e-5, 1e-5]\n",
    "wds = [0, 1e-4, 1e-3, 1e-2, 2e-2]\n",
    "EPOCHS = 100\n",
    "\n",
    "experiments = []\n",
    "\n",
    "for lr, wd in product(lrs, wds):\n",
    "    for key, opt in optimizers.items():\n",
    "        model_clone = deepcopy(simple_model)\n",
    "        optimizer = opt(model_clone.parameters(), lr=lr, weight_decay=wd)\n",
    "        experiment = Experiment(model_clone, train_loader, test_loader, optimizer, F.nll_loss,\n",
    "                                metrics={'accuracy': accuracy_score}, mode=\"classification\", name=key, wandb_config=dict(\n",
    "                project=\"mnist-test\",\n",
    "                config={\n",
    "                    \"optimizer\": key,\n",
    "                    \"lr\": optimizer.defaults[\"lr\"],\n",
    "                    \"dataset\": \"MNIST\",\n",
    "                    \"batch_size\": 32,\n",
    "                    \"architecture\": \"Simple Perceptron\",\n",
    "                    \"layers\": [28*28, 10, 10],\n",
    "                    \"weight_decay\": optimizer.defaults[\"weight_decay\"],\n",
    "                    \"epochs\": EPOCHS\n",
    "                }\n",
    "            ))\n",
    "        experiments.append(experiment)\n",
    "        \n",
    "print(\"Number of experiments:\", len(experiments))\n",
    "\n",
    "for experiment in experiments:\n",
    "    experiment.run(epochs=100, verbose=1)"
   ],
   "metadata": {
    "collapsed": false,
    "ExecuteTime": {
     "end_time": "2023-10-12T12:19:22.452038Z",
     "start_time": "2023-10-12T12:19:06.118186699Z"
    }
   },
   "id": "695fdbf43ac0daf"
  },
  {
   "cell_type": "code",
   "execution_count": 45,
   "outputs": [
    {
     "data": {
      "text/plain": "340"
     },
     "execution_count": 45,
     "metadata": {},
     "output_type": "execute_result"
    }
   ],
   "source": [
    "import torch\n",
    "\n",
    "class TestFunction(torch.nn.Module):\n",
    "    def __init__(self):\n",
    "        super().__init__()\n",
    "        self.x = torch.nn.Parameter(torch.tensor([2., 1.]))\n",
    "        \n",
    "    def forward(self, *args, **kwargs):\n",
    "        return 12*(self.x[0] - 10)**2 + (self.x[1]+5)**4\n",
    "    \n",
    "    def __call__(self, *args, **kwargs):\n",
    "        return self.forward(*args, **kwargs)\n",
    "    \n",
    "def stop_condition(train_loss, **kwargs):\n",
    "    return train_loss < .1\n",
    "\n",
    "dummy_data = torch.tensor([[1, 1], [1, 1]])\n",
    "model = TestFunction()\n",
    "optimizer = Lion(model.parameters(), lr=0.1, weight_decay=0, betas=(0.9, 0.999))\n",
    "experiment = Experiment(model, dummy_data, None, optimizer, None, mode=\"function\",  store_path=True, stop_condition=stop_condition)\n",
    "experiment.run(epochs=1000, verbose=0)\n",
    "len(experiment.get_path())"
   ],
   "metadata": {
    "collapsed": false,
    "ExecuteTime": {
     "end_time": "2023-10-16T11:46:27.472836049Z",
     "start_time": "2023-10-16T11:46:27.203028381Z"
    }
   },
   "id": "2f00012bc3477942"
  },
  {
   "cell_type": "code",
   "execution_count": 46,
   "outputs": [
    {
     "data": {
      "text/plain": "<Figure size 640x480 with 1 Axes>",
      "image/png": "[encoded data removed]"
     },
     "metadata": {},
     "output_type": "display_data"
    }
   ],
   "source": [
    "import matplotlib.pyplot as plt\n",
    "import seaborn as sns\n",
    "\n",
    "x = experiment.get_path()[:, 0, 0]\n",
    "y = experiment.get_path()[:, 0, 1]\n",
    "sns.scatterplot(x=x, y=y)\n",
    "\n",
    "plt.show()"
   ],
   "metadata": {
    "collapsed": false,
    "ExecuteTime": {
     "end_time": "2023-10-16T11:46:34.256982007Z",
     "start_time": "2023-10-16T11:46:34.001121648Z"
    }
   },
   "id": "656ae744222f7c9"
  },
  {
   "cell_type": "code",
   "execution_count": null,
   "outputs": [],
   "source": [],
   "metadata": {
    "collapsed": false,
    "ExecuteTime": {
     "start_time": "2023-10-11T13:25:12.984522760Z"
    }
   },
   "id": "bcbb13bbcb6b2025"
  }
 ],
 "metadata": {
  "kernelspec": {
   "display_name": "Python 3",
   "language": "python",
   "name": "python3"
  },
  "language_info": {
   "codemirror_mode": {
    "name": "ipython",
    "version": 2
   },
   "file_extension": ".py",
   "mimetype": "text/x-python",
   "name": "python",
   "nbconvert_exporter": "python",
   "pygments_lexer": "ipython2",
   "version": "2.7.6"
  }
 },
 "nbformat": 4,
 "nbformat_minor": 5
}
