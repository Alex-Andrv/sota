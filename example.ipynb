{
 "cells": [
  {
   "cell_type": "code",
   "execution_count": 1,
   "outputs": [
    {
     "name": "stdout",
     "output_type": "stream",
     "text": [
      "Using device cpu\n",
      "Using device cpu\n"
     ]
    }
   ],
   "source": [
    "from torch import optim\n",
    "import importlib\n",
    "import experiment\n",
    "importlib.reload(experiment)\n",
    "\n",
    "from experiment import experiment\n",
    "importlib.reload(experiment)\n",
    "from experiment.experiment import Experiment\n",
    "from copy import deepcopy\n",
    "import torch.nn.functional as F\n",
    "\n",
    "from sklearn.metrics import accuracy_score\n",
    "\n",
    "from optimizers import adamw, lion\n",
    "importlib.reload(adamw)\n",
    "importlib.reload(lion)\n",
    "from optimizers.adamw import AdamW\n",
    "from optimizers.lion import Lion\n",
    "\n",
    "import matplotlib.pyplot as plt"
   ],
   "metadata": {
    "collapsed": false,
    "ExecuteTime": {
     "end_time": "2023-10-12T09:44:56.313112550Z",
     "start_time": "2023-10-12T09:44:52.556761703Z"
    }
   },
   "id": "be04fc734fcaa7ae"
  },
  {
   "cell_type": "code",
   "execution_count": 2,
   "outputs": [],
   "source": [
    "from torch.utils.data import DataLoader\n",
    "from torchvision import datasets, transforms\n",
    "import torch\n",
    "\n",
    "data_train = datasets.MNIST(root='/tmp/data', download=True, transform=transforms.Compose([\n",
    "    transforms.ToTensor(),\n",
    "    transforms.Lambda(lambda x: x.flatten())\n",
    "]), train=True)\n",
    "data_test = datasets.MNIST(root='/tmp/data', download=True, transform=transforms.Compose([\n",
    "    transforms.ToTensor(),\n",
    "    transforms.Lambda(lambda x: x.flatten())\n",
    "]), train=False)"
   ],
   "metadata": {
    "collapsed": false,
    "ExecuteTime": {
     "end_time": "2023-10-12T09:44:56.794991381Z",
     "start_time": "2023-10-12T09:44:56.309063959Z"
    }
   },
   "id": "e2dd9517c1179bc1"
  },
  {
   "cell_type": "code",
   "execution_count": 3,
   "outputs": [
    {
     "data": {
      "text/plain": "<matplotlib.image.AxesImage at 0x7f2c26810190>"
     },
     "execution_count": 3,
     "metadata": {},
     "output_type": "execute_result"
    },
    {
     "data": {
      "text/plain": "<Figure size 640x480 with 1 Axes>",
      "image/png": "[encoded data removed]"
     },
     "metadata": {},
     "output_type": "display_data"
    }
   ],
   "source": [
    "import matplotlib.pyplot as plt\n",
    "plt.imshow(data_train[0][0].reshape(28, 28))"
   ],
   "metadata": {
    "collapsed": false,
    "ExecuteTime": {
     "end_time": "2023-10-12T09:44:57.276476360Z",
     "start_time": "2023-10-12T09:44:56.798569885Z"
    }
   },
   "id": "1e2b379ea6434ec7"
  },
  {
   "cell_type": "code",
   "execution_count": 11,
   "outputs": [],
   "source": [
    "from torch import nn\n",
    "simple_model = nn.Sequential(\n",
    "    nn.Linear(28*28, 10),\n",
    "    nn.ReLU(),\n",
    "    nn.Linear(10, 10),\n",
    "    nn.LogSoftmax(dim=1)\n",
    ")"
   ],
   "metadata": {
    "collapsed": false,
    "ExecuteTime": {
     "end_time": "2023-10-12T10:08:18.961683783Z",
     "start_time": "2023-10-12T10:08:18.948560565Z"
    }
   },
   "id": "161237688e7caa8"
  },
  {
   "cell_type": "code",
   "execution_count": 12,
   "outputs": [],
   "source": [
    "from torch.utils.data import TensorDataset\n",
    "\n",
    "X_train = data_train.data.reshape(-1, 28*28).type(torch.FloatTensor) / 255\n",
    "y_train = data_train.targets\n",
    "\n",
    "X_test = data_test.data.reshape(-1, 28*28).type(torch.FloatTensor) / 255\n",
    "y_test = data_test.targets\n",
    "\n",
    "train_dataset = TensorDataset(X_train, y_train)\n",
    "test_dataset = TensorDataset(X_test, y_test)\n",
    "\n",
    "train_loader = DataLoader(train_dataset, batch_size=32, shuffle=True)\n",
    "test_loader = DataLoader(test_dataset, batch_size=32, shuffle=True)"
   ],
   "metadata": {
    "collapsed": false,
    "ExecuteTime": {
     "end_time": "2023-10-12T10:08:19.346239122Z",
     "start_time": "2023-10-12T10:08:19.110193517Z"
    }
   },
   "id": "b0e9baf8d878a949"
  },
  {
   "cell_type": "code",
   "execution_count": null,
   "outputs": [
    {
     "name": "stdout",
     "output_type": "stream",
     "text": [
      "Number of experiments: 120\n",
      "Logging to wandb\n"
     ]
    },
    {
     "data": {
      "text/plain": "VBox(children=(Label(value='Waiting for wandb.init()...\\r'), FloatProgress(value=0.011112375166703714, max=1.0…",
      "application/vnd.jupyter.widget-view+json": {
       "version_major": 2,
       "version_minor": 0,
       "model_id": "f15b51706a9645d09b29de7589b0cc04"
      }
     },
     "metadata": {},
     "output_type": "display_data"
    },
    {
     "name": "stdout",
     "output_type": "stream",
     "text": [
      "--------------------------------------------------\n",
      "Epoch 1/100 - train_loss: 0.36186946416695914\n",
      "accuracy_train: 0.8933166666666666\n",
      "accuracy_test: 0.9252196485623003\n",
      "--------------------------------------------------\n",
      "Epoch 2/100 - train_loss: 0.25932587404747803\n",
      "accuracy_train: 0.9247166666666666\n",
      "accuracy_test: 0.9203274760383386\n",
      "--------------------------------------------------\n",
      "Epoch 3/100 - train_loss: 0.24025897485216458\n",
      "accuracy_train: 0.9307833333333333\n",
      "accuracy_test: 0.9260183706070287\n",
      "--------------------------------------------------\n",
      "Epoch 4/100 - train_loss: 0.22750089842379093\n",
      "accuracy_train: 0.9341333333333334\n",
      "accuracy_test: 0.9345047923322684\n",
      "--------------------------------------------------\n",
      "Epoch 5/100 - train_loss: 0.21869982958684364\n",
      "accuracy_train: 0.9368\n",
      "accuracy_test: 0.9360023961661342\n",
      "--------------------------------------------------\n",
      "Epoch 6/100 - train_loss: 0.21375082263052464\n",
      "accuracy_train: 0.9377\n",
      "accuracy_test: 0.9334065495207667\n",
      "--------------------------------------------------\n",
      "Epoch 7/100 - train_loss: 0.208061032281816\n",
      "accuracy_train: 0.9397833333333333\n",
      "accuracy_test: 0.9318091054313099\n",
      "--------------------------------------------------\n",
      "Epoch 8/100 - train_loss: 0.2049776637862126\n",
      "accuracy_train: 0.9404833333333333\n",
      "accuracy_test: 0.9334065495207667\n",
      "--------------------------------------------------\n",
      "Epoch 9/100 - train_loss: 0.20061246491173904\n",
      "accuracy_train: 0.9415666666666667\n",
      "accuracy_test: 0.9333067092651757\n",
      "--------------------------------------------------\n",
      "Epoch 10/100 - train_loss: 0.19920619150698185\n",
      "accuracy_train: 0.9418333333333333\n",
      "accuracy_test: 0.9382987220447284\n",
      "--------------------------------------------------\n",
      "Epoch 11/100 - train_loss: 0.19777128672699135\n",
      "accuracy_train: 0.9424\n",
      "accuracy_test: 0.933805910543131\n",
      "--------------------------------------------------\n",
      "Epoch 12/100 - train_loss: 0.19361692731479804\n",
      "accuracy_train: 0.94375\n",
      "accuracy_test: 0.9365015974440895\n",
      "--------------------------------------------------\n",
      "Epoch 13/100 - train_loss: 0.19219749286125104\n",
      "accuracy_train: 0.9436333333333333\n",
      "accuracy_test: 0.9359025559105432\n",
      "--------------------------------------------------\n",
      "Epoch 14/100 - train_loss: 0.19047264327555896\n",
      "accuracy_train: 0.9434166666666667\n",
      "accuracy_test: 0.9294129392971247\n",
      "--------------------------------------------------\n",
      "Epoch 15/100 - train_loss: 0.19053685448567073\n",
      "accuracy_train: 0.9440833333333334\n",
      "accuracy_test: 0.93560303514377\n",
      "--------------------------------------------------\n",
      "Epoch 16/100 - train_loss: 0.18728912758752703\n",
      "accuracy_train: 0.94445\n",
      "accuracy_test: 0.9374001597444089\n",
      "--------------------------------------------------\n",
      "Epoch 17/100 - train_loss: 0.1864190314789613\n",
      "accuracy_train: 0.9451333333333334\n",
      "accuracy_test: 0.9343051118210862\n",
      "--------------------------------------------------\n",
      "Epoch 18/100 - train_loss: 0.18498000651399293\n",
      "accuracy_train: 0.9453333333333334\n",
      "accuracy_test: 0.9325079872204473\n",
      "--------------------------------------------------\n",
      "Epoch 19/100 - train_loss: 0.18632943170567354\n",
      "accuracy_train: 0.9456166666666667\n",
      "accuracy_test: 0.9364017571884984\n",
      "--------------------------------------------------\n",
      "Epoch 20/100 - train_loss: 0.1838917568181952\n",
      "accuracy_train: 0.9460833333333334\n",
      "accuracy_test: 0.9354033546325878\n",
      "--------------------------------------------------\n",
      "Epoch 21/100 - train_loss: 0.18233461537559828\n",
      "accuracy_train: 0.9466666666666667\n",
      "accuracy_test: 0.9382987220447284\n",
      "--------------------------------------------------\n",
      "Epoch 22/100 - train_loss: 0.18242257180288435\n",
      "accuracy_train: 0.9460666666666666\n",
      "accuracy_test: 0.9372004792332268\n"
     ]
    }
   ],
   "source": [
    "from itertools import product\n",
    "\n",
    "import os\n",
    "os.environ[\"WANDB_SILENT\"] = \"true\"\n",
    "\n",
    "optimizers = {\"Pytorch Adam\": optim.Adam, \"Lion\": Lion, \"AdamW\": AdamW, \"Pytorch AdamW\": optim.AdamW}\n",
    "\n",
    "lrs = [5e-3, 1e-3, 3e-4, 1e-4, 3e-5, 1e-5]\n",
    "wds = [0, 1e-4, 1e-3, 1e-2, 2e-2]\n",
    "EPOCHS = 100\n",
    "\n",
    "experiments = []\n",
    "\n",
    "for lr, wd in product(lrs, wds):\n",
    "    for key, opt in optimizers.items():\n",
    "        model_clone = deepcopy(simple_model)\n",
    "        optimizer = opt(model_clone.parameters(), lr=lr, weight_decay=wd)\n",
    "        experiment = Experiment(model_clone, train_loader, test_loader, optimizer, F.nll_loss,\n",
    "                                metrics={'accuracy': accuracy_score}, mode=\"classification\", name=key, wandb_config=dict(\n",
    "                project=\"mnist-test\",\n",
    "                config={\n",
    "                    \"optimizer\": key,\n",
    "                    \"lr\": optimizer.defaults[\"lr\"],\n",
    "                    \"dataset\": \"MNIST\",\n",
    "                    \"batch_size\": 32,\n",
    "                    \"architecture\": \"Simple Perceptron\",\n",
    "                    \"layers\": [28*28, 10, 10],\n",
    "                    \"weight_decay\": optimizer.defaults[\"weight_decay\"],\n",
    "                    \"epochs\": EPOCHS\n",
    "                }\n",
    "            ))\n",
    "        experiments.append(experiment)\n",
    "        \n",
    "print(\"Number of experiments:\", len(experiments))\n",
    "\n",
    "for experiment in experiments[:1]:\n",
    "    experiment.run(epochs=100, verbose=1)"
   ],
   "metadata": {
    "collapsed": false,
    "is_executing": true,
    "ExecuteTime": {
     "start_time": "2023-10-12T10:08:19.467464316Z"
    }
   },
   "id": "695fdbf43ac0daf"
  },
  {
   "cell_type": "code",
   "execution_count": 9,
   "outputs": [
    {
     "data": {
      "text/plain": "100"
     },
     "execution_count": 9,
     "metadata": {},
     "output_type": "execute_result"
    }
   ],
   "source": [
    "import torch\n",
    "\n",
    "class TestFunction(nn.Module):\n",
    "    def __init__(self):\n",
    "        super().__init__()\n",
    "        self.x = nn.Parameter(torch.tensor([2., 1.]))\n",
    "        \n",
    "    def forward(self, *args, **kwargs):\n",
    "        return 7*(self.x[0] - 10)**2 + (self.x[1]+5)**2\n",
    "    \n",
    "    def __call__(self, *args, **kwargs):\n",
    "        return self.forward(*args, **kwargs)\n",
    "\n",
    "dummy_data = torch.tensor([[1, 1], [1, 1]])\n",
    "model = TestFunction()\n",
    "optimizer = Lion(model.parameters(), lr=0.1, weight_decay=0, betas=(0.9, 0.999))\n",
    "experiment = Experiment(model, dummy_data, None, optimizer, None, mode=\"function\",  store_path=True)\n",
    "experiment.run(epochs=100, verbose=0)\n",
    "len(experiment.get_path())"
   ],
   "metadata": {
    "collapsed": false,
    "ExecuteTime": {
     "end_time": "2023-10-12T10:08:03.900990286Z",
     "start_time": "2023-10-12T10:08:03.783004269Z"
    }
   },
   "id": "2f00012bc3477942"
  },
  {
   "cell_type": "code",
   "execution_count": 10,
   "outputs": [
    {
     "data": {
      "text/plain": "<Figure size 640x480 with 1 Axes>",
      "image/png": "[encoded data removed]"
     },
     "metadata": {},
     "output_type": "display_data"
    }
   ],
   "source": [
    "import matplotlib.pyplot as plt\n",
    "import seaborn as sns\n",
    "\n",
    "x = experiment.get_path()[:, 0, 0]\n",
    "y = experiment.get_path()[:, 0, 1]\n",
    "sns.scatterplot(x=x, y=y)\n",
    "\n",
    "plt.show()"
   ],
   "metadata": {
    "collapsed": false,
    "ExecuteTime": {
     "end_time": "2023-10-12T10:08:05.002484971Z",
     "start_time": "2023-10-12T10:08:04.623147671Z"
    }
   },
   "id": "656ae744222f7c9"
  },
  {
   "cell_type": "code",
   "execution_count": null,
   "outputs": [],
   "source": [],
   "metadata": {
    "collapsed": false,
    "ExecuteTime": {
     "start_time": "2023-10-11T13:25:12.984522760Z"
    }
   },
   "id": "bcbb13bbcb6b2025"
  }
 ],
 "metadata": {
  "kernelspec": {
   "display_name": "Python 3",
   "language": "python",
   "name": "python3"
  },
  "language_info": {
   "codemirror_mode": {
    "name": "ipython",
    "version": 2
   },
   "file_extension": ".py",
   "mimetype": "text/x-python",
   "name": "python",
   "nbconvert_exporter": "python",
   "pygments_lexer": "ipython2",
   "version": "2.7.6"
  }
 },
 "nbformat": 4,
 "nbformat_minor": 5
}
